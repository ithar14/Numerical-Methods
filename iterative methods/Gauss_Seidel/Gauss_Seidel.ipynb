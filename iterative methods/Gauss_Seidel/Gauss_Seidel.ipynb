{
 "cells": [
  {
   "cell_type": "code",
   "execution_count": 1,
   "metadata": {},
   "outputs": [],
   "source": [
    "from numpy import array, diag, diagflat, dot\n",
    "from numpy.linalg import inv\n",
    "import numpy as np"
   ]
  },
  {
   "cell_type": "code",
   "execution_count": 2,
   "metadata": {},
   "outputs": [
    {
     "name": "stdout",
     "output_type": "stream",
     "text": [
      "matrices dimension : 2\n",
      "a 1 1\n",
      "8\n",
      "a 1 2\n",
      "1\n",
      "a 2 1\n",
      "1\n",
      "a 2 2\n",
      "12\n",
      "A =  [[8.0, 1.0], [1.0, 12.0]]\n",
      "b 1\n",
      "1\n",
      "b 2\n",
      "2\n",
      "b = [[1.0], [2.0]]\n",
      "tolerance\n",
      "0.000001\n"
     ]
    }
   ],
   "source": [
    "# creating an empty list\n",
    "A = []\n",
    "b = []\n",
    "x = []\n",
    "# number of elemetns as input\n",
    "n = int(input(\"matrices dimension : \"))\n",
    "# filling matrix A\n",
    "for i in range(1, n+1):\n",
    "    a =[]\n",
    "    for j in range(1,n+1):# A for loop for column entries\n",
    "        print('a',i,j)\n",
    "        a.append(float(input()))\n",
    "    A.append(a)  \n",
    "print('A = ',A)  \n",
    "# filling matrix b\n",
    "for i in range(1, n+1):\n",
    "    print('b',i)\n",
    "    ele = [float(input())]  \n",
    "    b.append(ele)     \n",
    "print('b =', b) \n",
    "# matrix x guess\n",
    "x = np.zeros(n)\n",
    "print('tolerance')\n",
    "epsi = float(input())"
   ]
  },
  {
   "cell_type": "code",
   "execution_count": 3,
   "metadata": {},
   "outputs": [
    {
     "name": "stdout",
     "output_type": "stream",
     "text": [
      "U = \n",
      "[[0. 1.]\n",
      " [0. 0.]]\n",
      "L = \n",
      "[[ 8.  0.]\n",
      " [ 1. 12.]]\n"
     ]
    }
   ],
   "source": [
    "U = np.triu(A,1) # upper strict matrix\n",
    "Lg = np.tril(A,0) # L+D\n",
    "inv_L = inv(Lg) \n",
    "print('U = ')\n",
    "print(U)\n",
    "print('L = ')\n",
    "print(Lg)\n",
    "# A = L'+U"
   ]
  },
  {
   "cell_type": "code",
   "execution_count": 4,
   "metadata": {},
   "outputs": [
    {
     "name": "stdout",
     "output_type": "stream",
     "text": [
      "for  3 iteration the solution is  [[0.10526318 0.10526318]\n",
      " [0.15789473 0.15789473]]\n"
     ]
    }
   ],
   "source": [
    "#x(k+1)=inv(L')[-Ux(k)+b]\n",
    "for i in range(200):\n",
    "    x = dot(inv_L,np.dot(-U,x)+b)\n",
    "    err = np.dot(A, x) - b\n",
    "    if abs(np.average(err))<epsi :\n",
    "        break\n",
    "print('for ',i,'iteration the solution is ',x)"
   ]
  }
 ],
 "metadata": {
  "kernelspec": {
   "display_name": "Python 3",
   "language": "python",
   "name": "python3"
  },
  "language_info": {
   "codemirror_mode": {
    "name": "ipython",
    "version": 3
   },
   "file_extension": ".py",
   "mimetype": "text/x-python",
   "name": "python",
   "nbconvert_exporter": "python",
   "pygments_lexer": "ipython3",
   "version": "3.8.3"
  }
 },
 "nbformat": 4,
 "nbformat_minor": 4
}
