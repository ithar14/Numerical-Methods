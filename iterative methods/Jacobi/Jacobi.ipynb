{
 "cells": [
  {
   "cell_type": "code",
   "execution_count": 1,
   "metadata": {},
   "outputs": [],
   "source": [
    "from numpy import array, diag, diagflat, dot\n",
    "from numpy.linalg import inv\n",
    "import numpy as np"
   ]
  },
  {
   "cell_type": "code",
   "execution_count": 2,
   "metadata": {},
   "outputs": [],
   "source": [
    "A = np.array([[8,1],[1,12]]) #matrix A\n",
    "b = np.array([1,2]) # matrix b\n",
    "x = np.array([0,0]) # initial guess value of [x]\n",
    "epsi = 0.000001 #tolerance"
   ]
  },
  {
   "cell_type": "code",
   "execution_count": 3,
   "metadata": {},
   "outputs": [
    {
     "name": "stdout",
     "output_type": "stream",
     "text": [
      "U = \n",
      "[[0 1]\n",
      " [0 0]]\n",
      "L = \n",
      "[[0 0]\n",
      " [1 0]]\n",
      "D = \n",
      "[[ 8  0]\n",
      " [ 0 12]]\n"
     ]
    }
   ],
   "source": [
    "U = np.triu(A,1)\n",
    "L = np.tril(A,-1)\n",
    "D = diagflat(diag(A))\n",
    "inv_D = inv(D)\n",
    "print('U = ')\n",
    "print(U)\n",
    "print('L = ')\n",
    "print(L)\n",
    "print('D = ')\n",
    "print(D)\n",
    "\n",
    "# A = L+D+U"
   ]
  },
  {
   "cell_type": "code",
   "execution_count": 4,
   "metadata": {},
   "outputs": [
    {
     "name": "stdout",
     "output_type": "stream",
     "text": [
      "for  6 iteration the solution is  [0.10526318 0.15789475]\n"
     ]
    }
   ],
   "source": [
    "#x(k+1)=inv(D)[-Ux(k)+b]\n",
    "for i in range(200):\n",
    "    J = -(L+U)\n",
    "    x = dot(dot(J,x)+b,inv_D)\n",
    "    err = np.dot(A, x) - b\n",
    "    if abs(np.mean(err))<epsi :\n",
    "        break\n",
    "    #print('for ',i,'iteration the solution is ',list(map('{:.7f}'.format,x)))\n",
    "\n",
    "print('for ',i,'iteration the solution is ',x)"
   ]
  }
 ],
 "metadata": {
  "kernelspec": {
   "display_name": "Python 3",
   "language": "python",
   "name": "python3"
  },
  "language_info": {
   "codemirror_mode": {
    "name": "ipython",
    "version": 3
   },
   "file_extension": ".py",
   "mimetype": "text/x-python",
   "name": "python",
   "nbconvert_exporter": "python",
   "pygments_lexer": "ipython3",
   "version": "3.8.3"
  }
 },
 "nbformat": 4,
 "nbformat_minor": 4
}
