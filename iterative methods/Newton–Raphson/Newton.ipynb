{
 "cells": [
  {
   "cell_type": "code",
   "execution_count": 1,
   "metadata": {},
   "outputs": [],
   "source": [
    "#variables\n",
    "a = 10 \n",
    "epsi = 0.000001 #tolerance\n",
    "x0 = 4 #initial value"
   ]
  },
  {
   "cell_type": "code",
   "execution_count": 2,
   "metadata": {},
   "outputs": [],
   "source": [
    "#functions\n",
    "def fun(x):\n",
    "    f = x**3-a\n",
    "    return f\n",
    "\n",
    "def deriv(x):\n",
    "    df = 3*x**2\n",
    "    return df\n",
    "\n",
    "def quot(x):\n",
    "    h = fun(x)/deriv(x)\n",
    "    return h"
   ]
  },
  {
   "cell_type": "code",
   "execution_count": 3,
   "metadata": {},
   "outputs": [
    {
     "data": {
      "text/plain": [
       "<matplotlib.legend.Legend at 0x1818a103b20>"
      ]
     },
     "execution_count": 3,
     "metadata": {},
     "output_type": "execute_result"
    },
    {
     "data": {
      "image/png": "[encoded data removed]",
      "text/plain": [
       "<Figure size 432x288 with 1 Axes>"
      ]
     },
     "metadata": {
      "needs_background": "light"
     },
     "output_type": "display_data"
    }
   ],
   "source": [
    "#plot \n",
    "import numpy as np\n",
    "import matplotlib.pyplot as plt\n",
    "x = np.arange(0, 4.5, 0.05)\n",
    "y = fun(x)\n",
    "\n",
    "fig,ax = plt.subplots()\n",
    "ax.plot(x,y)\n",
    "\n",
    "#plot tangent line\n",
    "z = x0**3-a+3*x0**2*(x-x0)\n",
    "ax.plot(x,z)\n",
    "#scale\n",
    "ax.set_xlim(xmin=1)\n",
    "ax.set_ylim(ymin=-15)\n",
    "\n",
    "plt.axhline(linestyle='--')\n",
    "ax.legend(['function','tangent at x0'])"
   ]
  },
  {
   "cell_type": "code",
   "execution_count": 4,
   "metadata": {},
   "outputs": [
    {
     "name": "stdout",
     "output_type": "stream",
     "text": [
      "f(x) = x^3 - a\n",
      "initial guess : 4\n",
      "precision : 1e-06 \n",
      "\n",
      "step          x          f(x)          f'(x)\n",
      "1      2.875000      13.763672      24.796875\n",
      "2      2.319943      2.486252      16.146411\n",
      "3      2.165962      0.161369      14.074168\n",
      "4      2.154496      0.000853      13.925558\n",
      "5      2.154435      0.000000      13.924767\n",
      "\n",
      "\n",
      "for 5 iterations, the cube root of 10 is 2.154434691772293\n"
     ]
    }
   ],
   "source": [
    "# newton method\n",
    "print('f(x) = x^3 - a')\n",
    "print('initial guess :',x0)\n",
    "print('precision :',epsi,'\\n')\n",
    "print('step', 'x','f(x)',\"f'(x)\",sep='          ')\n",
    "\n",
    "x = x0\n",
    "i = 0\n",
    "while abs(fun(x))>epsi :\n",
    "    xn = x - quot(x)\n",
    "    x = xn\n",
    "    i+=1\n",
    "    print(i,\"{:.6f}\".format(xn),\"{:.6f}\".format(fun(xn)),\"{:.6f}\".format(deriv(xn)),sep='      ')\n",
    "       \n",
    "print('\\n')\n",
    "print('for',i,'iterations, the cube root of',a,'is',xn)"
   ]
  }
 ],
 "metadata": {
  "kernelspec": {
   "display_name": "Python 3",
   "language": "python",
   "name": "python3"
  },
  "language_info": {
   "codemirror_mode": {
    "name": "ipython",
    "version": 3
   },
   "file_extension": ".py",
   "mimetype": "text/x-python",
   "name": "python",
   "nbconvert_exporter": "python",
   "pygments_lexer": "ipython3",
   "version": "3.8.3"
  }
 },
 "nbformat": 4,
 "nbformat_minor": 4
}
